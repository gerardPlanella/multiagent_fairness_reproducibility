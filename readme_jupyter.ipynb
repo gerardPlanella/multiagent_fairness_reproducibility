{
 "cells": [
  {
   "attachments": {},
   "cell_type": "markdown",
   "metadata": {},
   "source": [
    "# I. Installing the environment"
   ]
  },
  {
   "cell_type": "code",
   "execution_count": 5,
   "metadata": {},
   "outputs": [
    {
     "name": "stdout",
     "output_type": "stream",
     "text": [
      "^C\n"
     ]
    }
   ],
   "source": [
    "#If using Windows:\n",
    "!conda env create -f environment_windows.yml"
   ]
  },
  {
   "cell_type": "code",
   "execution_count": null,
   "metadata": {},
   "outputs": [],
   "source": [
    "#If using Linux:\n",
    "!conda env create -f environment_linux.yml"
   ]
  },
  {
   "attachments": {},
   "cell_type": "markdown",
   "metadata": {},
   "source": [
    "Now, to set-up multi-agent environments:"
   ]
  },
  {
   "cell_type": "code",
   "execution_count": 7,
   "metadata": {},
   "outputs": [
    {
     "name": "stdout",
     "output_type": "stream",
     "text": [
      "c:\\Users\\User\\Repositories\\multiagent_fairness_reproducibility\n"
     ]
    }
   ],
   "source": [
    "import os\n",
    "print(os.getcwd())"
   ]
  },
  {
   "cell_type": "code",
   "execution_count": 9,
   "metadata": {},
   "outputs": [
    {
     "name": "stdout",
     "output_type": "stream",
     "text": [
      "c:\\Users\\User\\Repositories\\multiagent_fairness_reproducibility\\simple_particle_envs\n",
      "c:\\Users\\User\\Repositories\\multiagent_fairness_reproducibility\\simple_particle_envs\n"
     ]
    }
   ],
   "source": [
    "%cd simple_particle_envs\n",
    "%pip install -e . \n",
    "%cd .."
   ]
  },
  {
   "attachments": {},
   "cell_type": "markdown",
   "metadata": {},
   "source": [
    "Verify the installation:"
   ]
  },
  {
   "cell_type": "code",
   "execution_count": 15,
   "metadata": {},
   "outputs": [
    {
     "name": "stderr",
     "output_type": "stream",
     "text": [
      "usage: baselines.py [-h] [--mode MODE] [--env ENV] [--pred_policy PRED_POLICY]\n",
      "                    [--prey_policy PREY_POLICY] [--n_steps N_STEPS]\n",
      "                    [--n_epochs N_EPOCHS] [--n_epochs_test N_EPOCHS_TEST]\n",
      "                    [--seed SEED] [--directory DIRECTORY] [--render]\n",
      "                    [--log_interval LOG_INTERVAL] [--step] [--curriculum]\n",
      "                    [--comm_type COMM_TYPE] [--use_sensor_range]\n",
      "                    [--sensing_range SENSING_RANGE] [--comm_range COMM_RANGE]\n",
      "                    [--comm_noise COMM_NOISE] [--pos_noise POS_NOISE]\n",
      "                    [--test_noise TEST_NOISE]\n",
      "                    [--init_range_thresh INIT_RANGE_THRESH] [--verbose]\n",
      "baselines.py: error: unrecognized arguments: --nb_prey 1\n"
     ]
    }
   ],
   "source": [
    "!python baselines/baselines.py --mode test --render "
   ]
  },
  {
   "attachments": {},
   "cell_type": "markdown",
   "metadata": {},
   "source": [
    "# II. Train a model"
   ]
  },
  {
   "attachments": {},
   "cell_type": "markdown",
   "metadata": {},
   "source": [
    "First "
   ]
  }
 ],
 "metadata": {
  "kernelspec": {
   "display_name": "fact.3.9",
   "language": "python",
   "name": "python3"
  },
  "language_info": {
   "codemirror_mode": {
    "name": "ipython",
    "version": 3
   },
   "file_extension": ".py",
   "mimetype": "text/x-python",
   "name": "python",
   "nbconvert_exporter": "python",
   "pygments_lexer": "ipython3",
   "version": "3.9.15"
  },
  "orig_nbformat": 4,
  "vscode": {
   "interpreter": {
    "hash": "c6bc45558a726a22ebd8e191e35bfdfb939c91b603a9cf8150a8bafe83c51da5"
   }
  }
 },
 "nbformat": 4,
 "nbformat_minor": 2
}
